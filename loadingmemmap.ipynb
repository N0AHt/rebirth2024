{
 "cells": [
  {
   "cell_type": "code",
   "execution_count": 1,
   "metadata": {},
   "outputs": [],
   "source": [
    "import numpy as np\n",
    "import matplotlib.pyplot as plt\n",
    "\n",
    "import functions"
   ]
  },
  {
   "cell_type": "code",
   "execution_count": 2,
   "metadata": {},
   "outputs": [],
   "source": [
    "path_to_memmap_1 = r'C:\\Users\\jl5675\\Desktop\\Noah\\data\\rebirth\\redSamsungDrive\\Animal7_rec1\\20230710_09_50pm_1stRecording_24hrPostSedimentation_200ms_Exposure_10sInterval_7mw_Yellow_250msExposure_50mw_Blue_Burstevery7hrs_for20mins_1stRecording\\numpy\\camera1_1.npy'\n",
    "path_to_metadata_1 = r'C:\\Users\\jl5675\\Desktop\\Noah\\data\\rebirth\\redSamsungDrive\\Animal7_rec1\\20230710_09_50pm_1stRecording_24hrPostSedimentation_200ms_Exposure_10sInterval_7mw_Yellow_250msExposure_50mw_Blue_Burstevery7hrs_for20mins_1stRecording\\numpy\\camera1_1_meta.json'\n",
    "\n",
    "path_to_memmap_2 = r'C:\\Users\\jl5675\\Desktop\\Noah\\data\\rebirth\\redSamsungDrive\\Animal7_rec1\\20230710_09_50pm_1stRecording_24hrPostSedimentation_200ms_Exposure_10sInterval_7mw_Yellow_250msExposure_50mw_Blue_Burstevery7hrs_for20mins_1stRecording\\numpy\\camera2_1.npy'\n",
    "path_to_metadata_2 = r'C:\\Users\\jl5675\\Desktop\\Noah\\data\\rebirth\\redSamsungDrive\\Animal7_rec1\\20230710_09_50pm_1stRecording_24hrPostSedimentation_200ms_Exposure_10sInterval_7mw_Yellow_250msExposure_50mw_Blue_Burstevery7hrs_for20mins_1stRecording\\numpy\\camera2_1_meta.json'\n"
   ]
  },
  {
   "cell_type": "code",
   "execution_count": 3,
   "metadata": {},
   "outputs": [],
   "source": [
    "#load my memmap data\n",
    "\n",
    "cam1_data = functions.open_memmap(path_to_memmap_1, path_to_metadata_1)\n",
    "cam2_data = functions.open_memmap(path_to_memmap_2, path_to_metadata_2)"
   ]
  },
  {
   "cell_type": "code",
   "execution_count": null,
   "metadata": {},
   "outputs": [],
   "source": [
    "plt.imshow(cam1_data[0])\n",
    "plt.show()\n",
    "\n",
    "plt.imshow(cam2_data[0])\n",
    "plt.show()"
   ]
  },
  {
   "cell_type": "code",
   "execution_count": null,
   "metadata": {},
   "outputs": [],
   "source": []
  }
 ],
 "metadata": {
  "kernelspec": {
   "display_name": "Python 3",
   "language": "python",
   "name": "python3"
  },
  "language_info": {
   "codemirror_mode": {
    "name": "ipython",
    "version": 3
   },
   "file_extension": ".py",
   "mimetype": "text/x-python",
   "name": "python",
   "nbconvert_exporter": "python",
   "pygments_lexer": "ipython3",
   "version": "3.12.5"
  }
 },
 "nbformat": 4,
 "nbformat_minor": 2
}
