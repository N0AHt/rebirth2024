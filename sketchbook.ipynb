{
 "cells": [
  {
   "cell_type": "code",
   "execution_count": 1,
   "metadata": {},
   "outputs": [],
   "source": [
    "import functions as utils"
   ]
  },
  {
   "cell_type": "code",
   "execution_count": 2,
   "metadata": {},
   "outputs": [],
   "source": [
    "# convertion from raw data into a raw file format for memmap loading\n",
    "# create a new folder with the contents of both camera1 and camera2 and the metadata\n",
    "\n",
    "data_folder = r'C:\\Users\\jl5675\\Desktop\\Noah\\data\\rebirth\\redSamsungDrive\\Animal7_rec1\\20230710_09_50pm_1stRecording_24hrPostSedimentation_200ms_Exposure_10sInterval_7mw_Yellow_250msExposure_50mw_Blue_Burstevery7hrs_for20mins_1stRecording'\n",
    "\n",
    "tiff_folder_camera1 = r'C:\\Users\\jl5675\\Desktop\\Noah\\data\\rebirth\\redSamsungDrive\\Animal7_rec1\\20230710_09_50pm_1stRecording_24hrPostSedimentation_200ms_Exposure_10sInterval_7mw_Yellow_250msExposure_50mw_Blue_Burstevery7hrs_for20mins_1stRecording\\camera1_1'\n",
    "tiff_folder_camera2 = r'C:\\Users\\jl5675\\Desktop\\Noah\\data\\rebirth\\redSamsungDrive\\Animal7_rec1\\20230710_09_50pm_1stRecording_24hrPostSedimentation_200ms_Exposure_10sInterval_7mw_Yellow_250msExposure_50mw_Blue_Burstevery7hrs_for20mins_1stRecording\\camera2_1'\n",
    "\n",
    "npy_folder = r'C:\\Users\\jl5675\\Desktop\\Noah\\data\\rebirth\\redSamsungDrive\\Animal7_rec1\\20230710_09_50pm_1stRecording_24hrPostSedimentation_200ms_Exposure_10sInterval_7mw_Yellow_250msExposure_50mw_Blue_Burstevery7hrs_for20mins_1stRecording\\numpy'\n"
   ]
  },
  {
   "cell_type": "code",
   "execution_count": null,
   "metadata": {},
   "outputs": [],
   "source": [
    "utils.tiff_to_memmap(tiff_folder_camera1, npy_folder, channel = 'cam1', chunk_size = 1000)\n",
    "utils.tiff_to_memmap(tiff_folder_camera2, npy_folder, channel = 'cam2', chunk_size = 1000)\n"
   ]
  },
  {
   "cell_type": "code",
   "execution_count": null,
   "metadata": {},
   "outputs": [],
   "source": []
  }
 ],
 "metadata": {
  "kernelspec": {
   "display_name": "Python 3",
   "language": "python",
   "name": "python3"
  },
  "language_info": {
   "codemirror_mode": {
    "name": "ipython",
    "version": 3
   },
   "file_extension": ".py",
   "mimetype": "text/x-python",
   "name": "python",
   "nbconvert_exporter": "python",
   "pygments_lexer": "ipython3",
   "version": "3.12.5"
  }
 },
 "nbformat": 4,
 "nbformat_minor": 2
}
