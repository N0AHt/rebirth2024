{
 "cells": [
  {
   "cell_type": "code",
   "execution_count": 1,
   "metadata": {},
   "outputs": [],
   "source": [
    "# Segment cells with Stardist. This seems to work well and provide good results :)\n",
    "# Tracking the cells is a major issue. Use pips++ model to track the individual segmented points using the first frame's coordinates\n",
    "# Use subsequent frames to with stardist to verify that pips++ is on the right track, reinitialise if drifting\n",
    "# can split the video into multiple segments and track all of them in parallel, then merge the tracks with a nearest neighbors algorithm\n"
   ]
  },
  {
   "cell_type": "code",
   "execution_count": 2,
   "metadata": {},
   "outputs": [],
   "source": [
    "# Load stardist model. From testing, cell seg works well too. No GPU here so this will all be much slower\n",
    "# Tracking with PIPs will also be much slower. Will need to figure something out here"
   ]
  },
  {
   "cell_type": "code",
   "execution_count": 1,
   "metadata": {},
   "outputs": [],
   "source": [
    "from rebirth.utils import stardist_utils as std\n",
    "from rebirth.utils import tif_memmap_utils as utils, display_utils as disp"
   ]
  },
  {
   "cell_type": "code",
   "execution_count": null,
   "metadata": {},
   "outputs": [],
   "source": [
    "# stardist model\n",
    "model_path = r'C:\\Users\\jl5675\\Desktop\\Noah\\github\\rebirth2024\\models\\stardist'\n",
    "\n",
    "model = std.stardist(model_path)"
   ]
  },
  {
   "cell_type": "code",
   "execution_count": 3,
   "metadata": {},
   "outputs": [],
   "source": [
    "path_to_memmap_2 = r'C:\\Users\\jl5675\\Desktop\\Noah\\data\\rebirth\\redSamsungDrive\\Animal7_rec1\\20230710_09_50pm_1stRecording_24hrPostSedimentation_200ms_Exposure_10sInterval_7mw_Yellow_250msExposure_50mw_Blue_Burstevery7hrs_for20mins_1stRecording\\numpy\\camera2_1.npy'\n",
    "path_to_metadata_2 = r'C:\\Users\\jl5675\\Desktop\\Noah\\data\\rebirth\\redSamsungDrive\\Animal7_rec1\\20230710_09_50pm_1stRecording_24hrPostSedimentation_200ms_Exposure_10sInterval_7mw_Yellow_250msExposure_50mw_Blue_Burstevery7hrs_for20mins_1stRecording\\numpy\\camera2_1_meta.json'"
   ]
  },
  {
   "cell_type": "code",
   "execution_count": 4,
   "metadata": {},
   "outputs": [],
   "source": [
    "# cam1_data = utils.open_memmap(path_to_memmap_2, path_to_metadata_2) # green\n",
    "cam2_data = utils.open_memmap(path_to_memmap_2, path_to_metadata_2) # red"
   ]
  },
  {
   "cell_type": "code",
   "execution_count": 5,
   "metadata": {},
   "outputs": [],
   "source": [
    "disp.cv_play(cam2_data)\n"
   ]
  },
  {
   "cell_type": "code",
   "execution_count": 15,
   "metadata": {},
   "outputs": [],
   "source": [
    "# normalise this data!\n",
    "\n",
    "batch = cam2_data[0:50]\n",
    "\n",
    "normvid = std.normaliser(batch) # this copies data"
   ]
  },
  {
   "cell_type": "code",
   "execution_count": null,
   "metadata": {},
   "outputs": [],
   "source": [
    "#segment the data\n",
    "\n",
    "detections, data = model.detect(normvid)"
   ]
  },
  {
   "cell_type": "code",
   "execution_count": null,
   "metadata": {},
   "outputs": [],
   "source": [
    "#Set model parameters for your dataset\n",
    "detector = model\n",
    "vidCopy = normvid[0:2] #test batch\n",
    "scale = 1\n",
    "\n",
    "global frameID\n",
    "global frame\n",
    "global frame_cv\n",
    "global contours\n",
    "\n",
    "frameID = 0\n",
    "frame = vidCopy[frameID].copy()\n",
    "frame_cv = cv2.normalize(src=frame, dst=None, alpha=0, beta=255, norm_type=cv2.NORM_MINMAX, dtype=cv2.CV_8U)\n",
    "frame_cv = cv2.cvtColor(frame_cv, cv2.COLOR_GRAY2BGR)\n",
    "h, w = frame.shape[0:2]\n",
    "\n",
    "#initialise plotting parameters with default values - converted to 0-100 range for openCV trackbars\n",
    "probabilityThreshold = int(detector.prob_threshold*100) \n",
    "nmsThreshold = int(detector.nms_threshold*100)\n",
    "\n",
    "contours = generate_contours(frame, detector) \n",
    "\n",
    "# window_name = 'Frame', f'Frame {frameID} / {len(detections_sequence_test)} - Number of detections: {len(detections_sequence_test[i])}'\n",
    "window_name = 'Paramater Test - Segmentation   (Press Q to Quit)'\n",
    "\n",
    "try:\n",
    "\n",
    "    #create and rescale window\n",
    "    cv2.namedWindow(window_name, cv2.WINDOW_NORMAL)\n",
    "    cv2.resizeWindow(window_name, h*scale, w*scale)\n",
    "\n",
    "    #Frame Trackbar\n",
    "    def update_frame(x): #callback function for trackbar - default argument is the position of the track bar\n",
    "        global contours\n",
    "        global frame\n",
    "        global frame_cv\n",
    "\n",
    "        frame = vidCopy[x].copy()\n",
    "        frame_cv = cv2.normalize(src=frame, dst=None, alpha=0, beta=255, norm_type=cv2.NORM_MINMAX, dtype=cv2.CV_8U)\n",
    "        frame_cv = cv2.cvtColor(frame_cv, cv2.COLOR_GRAY2BGR)\n",
    "        contours = generate_contours(frame, detector) \n",
    "    cv2.createTrackbar('Frame',window_name,0,len(vidCopy)-1,update_frame)\n",
    "\n",
    "    #Probability Trackbar\n",
    "    def update_probability_threshold(x):\n",
    "        detector.prob_threshold = (x+1)/100 \n",
    "        update_frame(frameID)\n",
    "    cv2.createTrackbar('Probability Threshold', window_name, probabilityThreshold, 99, update_probability_threshold)\n",
    "\n",
    "    #Overlap Trackbar\n",
    "    def update_overlap_threshold(x):\n",
    "        detector.nms_threshold = (x+1)/100\n",
    "        update_frame(frameID)\n",
    "    cv2.createTrackbar('Overlap Threshold', window_name, nmsThreshold, 99, update_overlap_threshold)\n",
    "\n",
    "except Exception as e:\n",
    "    print(e)\n",
    "\n",
    "\n",
    "while True:\n",
    "    try:\n",
    "\n",
    "        frameID = cv2.getTrackbarPos('Frame',window_name)\n",
    "        # cv2.imshow(window_name, video[frameID])\n",
    "        visualise_all_contours_cv(frame_cv, contours)\n",
    "        cv2.imshow(window_name, frame_cv)\n",
    "\n",
    "        probabilityThreshold = cv2.getTrackbarPos('Probability Threshold', window_name)/100\n",
    "        nmsThreshold = cv2.getTrackbarPos('Overlap Threshold', window_name)/100\n",
    "\n",
    "        #exit on q\n",
    "        if cv2.waitKey(5) == ord('q'):\n",
    "            # press q to terminate the loop\n",
    "            cv2.destroyAllWindows()\n",
    "            break\n",
    "\n",
    "    except Exception as e:\n",
    "        print(e)\n",
    "        cv2.destroyAllWindows()\n",
    "        break\n",
    "    \n",
    "cv2.destroyAllWindows()\n",
    "\n",
    "print('Probability Threshold: ', probabilityThreshold)\n",
    "print('nms Threshold: ', nmsThreshold)"
   ]
  },
  {
   "cell_type": "code",
   "execution_count": 9,
   "metadata": {},
   "outputs": [],
   "source": [
    "# need to normalize or things look bad"
   ]
  },
  {
   "cell_type": "code",
   "execution_count": null,
   "metadata": {},
   "outputs": [],
   "source": []
  }
 ],
 "metadata": {
  "kernelspec": {
   "display_name": "Python 3",
   "language": "python",
   "name": "python3"
  },
  "language_info": {
   "codemirror_mode": {
    "name": "ipython",
    "version": 3
   },
   "file_extension": ".py",
   "mimetype": "text/x-python",
   "name": "python",
   "nbconvert_exporter": "python",
   "pygments_lexer": "ipython3",
   "version": "3.12.6"
  }
 },
 "nbformat": 4,
 "nbformat_minor": 2
}
