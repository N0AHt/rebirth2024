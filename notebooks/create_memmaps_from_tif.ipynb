{
 "cells": [
  {
   "cell_type": "code",
   "execution_count": 1,
   "metadata": {},
   "outputs": [],
   "source": [
    "from rebirth.utils import tif_memmap_utils as utils"
   ]
  },
  {
   "cell_type": "code",
   "execution_count": 2,
   "metadata": {},
   "outputs": [],
   "source": [
    "# convertion from raw data into a raw file format for memmap loading\n",
    "# create a new folder with the contents of both camera1 and camera2 and the metadata\n",
    "\n",
    "data_folder = r'C:\\Users\\jl5675\\Desktop\\Noah\\data\\rebirth\\redSamsungDrive\\Animal7_rec1\\20230710_09_50pm_1stRecording_24hrPostSedimentation_200ms_Exposure_10sInterval_7mw_Yellow_250msExposure_50mw_Blue_Burstevery7hrs_for20mins_1stRecording'\n",
    "\n",
    "chunk_size = 1000 #how small to break up data to fit in RAM while processing\n",
    "numpy_folder_name = 'numpy' #what to name the new folder that will store the memmap files\n",
    "suffix = '.tif' #file extenstion to use when processing tiff files (some programs call ir .tiff)\n",
    "data_type = 'uint16' #data type to save memmap as. larger datatypes will take longer to save"
   ]
  },
  {
   "cell_type": "code",
   "execution_count": null,
   "metadata": {},
   "outputs": [],
   "source": [
    "utils.create_memmap_multichannel(data_folder, chunk_size, numpy_folder_name, suffix, data_type)\n"
   ]
  },
  {
   "cell_type": "code",
   "execution_count": null,
   "metadata": {},
   "outputs": [],
   "source": []
  }
 ],
 "metadata": {
  "kernelspec": {
   "display_name": "Python 3",
   "language": "python",
   "name": "python3"
  },
  "language_info": {
   "codemirror_mode": {
    "name": "ipython",
    "version": 3
   },
   "file_extension": ".py",
   "mimetype": "text/x-python",
   "name": "python",
   "nbconvert_exporter": "python",
   "pygments_lexer": "ipython3",
   "version": "3.12.5"
  }
 },
 "nbformat": 4,
 "nbformat_minor": 2
}
