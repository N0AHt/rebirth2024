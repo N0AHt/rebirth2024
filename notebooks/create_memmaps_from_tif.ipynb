{
 "cells": [
  {
   "cell_type": "code",
   "execution_count": 1,
   "metadata": {},
   "outputs": [],
   "source": [
    "from rebirth.utils import tif_memmap_utils as utils"
   ]
  },
  {
   "cell_type": "code",
   "execution_count": 2,
   "metadata": {},
   "outputs": [],
   "source": [
    "# conversion from raw data into a raw file format for memmap loading\n",
    "# create a new folder with the contents of both camera1 and camera2 and the metadata\n",
    "\n",
    "data_folder = r'C:\\Users\\jl5675\\Desktop\\Noah\\data\\rebirth\\redSamsungDrive\\Animal7_rec1\\20230710_09_50pm_1stRecording_24hrPostSedimentation_200ms_Exposure_10sInterval_7mw_Yellow_250msExposure_50mw_Blue_Burstevery7hrs_for20mins_1stRecording'\n",
    "\n",
    "chunk_size = 1000 #how small to break up data to fit in RAM while processing\n",
    "numpy_folder_name = 'numpy' #what to name the new folder that will store the memmap files\n",
    "suffix = '.tif' #file extension to use when processing tiff files (some programs call ir .tiff)\n",
    "data_type = 'uint16' #data type to save memmap as. larger datatypes will take longer to save"
   ]
  },
  {
   "cell_type": "code",
   "execution_count": 3,
   "metadata": {},
   "outputs": [],
   "source": [
    "# utils.create_memmap_multichannel(data_folder, chunk_size, numpy_folder_name, suffix, data_type)\n"
   ]
  },
  {
   "cell_type": "code",
   "execution_count": 4,
   "metadata": {},
   "outputs": [
    {
     "name": "stdout",
     "output_type": "stream",
     "text": [
      "Processed frames 0 to 1000 from camera2_NDTiffStack.tif\n",
      "Processed frames 1000 to 2000 from camera2_NDTiffStack.tif\n",
      "Processed frames 2000 to 2041 from camera2_NDTiffStack.tif\n",
      "\n",
      "\n",
      "Processed frames 0 to 1000 from camera2_NDTiffStack_1.tif\n",
      "Processed frames 1000 to 2000 from camera2_NDTiffStack_1.tif\n",
      "Processed frames 2000 to 2041 from camera2_NDTiffStack_1.tif\n",
      "\n",
      "\n",
      "Processed frames 0 to 1000 from camera2_NDTiffStack_2.tif\n",
      "Processed frames 1000 to 1155 from camera2_NDTiffStack_2.tif\n",
      "\n",
      "\n",
      "\n",
      "\n",
      "\n",
      "\n"
     ]
    }
   ],
   "source": [
    "pths_numpy = r'C:\\Users\\jl5675\\Desktop\\Noah\\data\\rebirth\\redSamsungDrive\\Animal7_rec1\\20230710_09_50pm_1stRecording_24hrPostSedimentation_200ms_Exposure_10sInterval_7mw_Yellow_250msExposure_50mw_Blue_Burstevery7hrs_for20mins_1stRecording\\npy_test'\n",
    "cam_path = r'C:\\Users\\jl5675\\Desktop\\Noah\\data\\rebirth\\redSamsungDrive\\Animal7_rec1\\20230710_09_50pm_1stRecording_24hrPostSedimentation_200ms_Exposure_10sInterval_7mw_Yellow_250msExposure_50mw_Blue_Burstevery7hrs_for20mins_1stRecording\\camera2_1'\n",
    "\n",
    "utils.tiff_to_memmap(cam_path, pths_numpy, 'channel2', chunk_size, suffix, data_type, collect_image_metadata=True)\n"
   ]
  },
  {
   "cell_type": "code",
   "execution_count": null,
   "metadata": {},
   "outputs": [],
   "source": [
    "x = np.asarray([1,3,5])\n",
    "y = 2\n",
    "import numpy as np # cant support numpy types! convert to python std types for json\n",
    "min = np.min( (x.min(), y) )\n",
    "min"
   ]
  },
  {
   "cell_type": "markdown",
   "metadata": {},
   "source": [
    "Need to strore metadata about the memmaps, accross the whole file:\n",
    "- minimum and maximum values\n",
    "- original dtype\n",
    "- final dtype?\n",
    "- information for normalizing the data (min, max, quantiles)\n",
    "- information for displaying: resolution\n"
   ]
  },
  {
   "cell_type": "code",
   "execution_count": 19,
   "metadata": {},
   "outputs": [],
   "source": [
    "pth = r'C:\\Users\\jl5675\\Desktop\\Noah\\data\\rebirth\\redSamsungDrive\\Animal7_rec1\\20230710_09_50pm_1stRecording_24hrPostSedimentation_200ms_Exposure_10sInterval_7mw_Yellow_250msExposure_50mw_Blue_Burstevery7hrs_for20mins_1stRecording\\camera2_1\\camera2_NDTiffStack_1.tif'\n",
    "import tifffile as tif \n",
    "\n",
    "stuff = []\n",
    "with tif.TiffFile(pth) as tif:\n",
    "    # print(tif.imagej_metadata)\n",
    "    page = tif.pages[0]\n",
    "    for tag in page.tags:\n",
    "        tag_name, tag_value = tag.name, tag.value\n",
    "        stuff.append(tag_name)\n",
    "\n",
    "\n",
    "# this only gives data about the frame, need to get range of values"
   ]
  },
  {
   "cell_type": "code",
   "execution_count": null,
   "metadata": {},
   "outputs": [],
   "source": [
    "stuff # how can I get imageJ data out of this?"
   ]
  },
  {
   "cell_type": "code",
   "execution_count": null,
   "metadata": {},
   "outputs": [],
   "source": []
  }
 ],
 "metadata": {
  "kernelspec": {
   "display_name": "Python 3",
   "language": "python",
   "name": "python3"
  },
  "language_info": {
   "codemirror_mode": {
    "name": "ipython",
    "version": 3
   },
   "file_extension": ".py",
   "mimetype": "text/x-python",
   "name": "python",
   "nbconvert_exporter": "python",
   "pygments_lexer": "ipython3",
   "version": "3.12.6"
  }
 },
 "nbformat": 4,
 "nbformat_minor": 2
}
